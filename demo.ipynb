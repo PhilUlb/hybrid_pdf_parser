{
  "cells": [
    {
      "cell_type": "markdown",
      "metadata": {},
      "source": [
        "# Hybrid PDF Parser Demo\n",
        "\n",
        "This notebook demonstrates how to use the Hybrid PDF Parser with the simple high-level API.\n",
        "\n",
        "## Setup\n",
        "\n",
        "First, configure your credentials:\n"
      ]
    },
    {
      "cell_type": "code",
      "execution_count": null,
      "metadata": {},
      "outputs": [],
      "source": [
        "# Import the simple API\n",
        "from hybrid_pdf_parser import PDFExtractor\n",
        "\n",
        "# Create extractor\n",
        "extractor = PDFExtractor()\n",
        "\n",
        "# Configure with OpenAI (credentials auto-loaded from .env or env vars)\n",
        "extractor.config(\n",
        "    provider=\"openai\",\n",
        "    #api_key=\"\"sk-your-key-here\",  # Or leave empty to use OPENAI_API_KEY from env\"\n",
        "    vision_model=\"gpt-4o-mini\"\n",
        ")\n",
        "\n",
        "print(\"✓ Extractor configured\")\n"
      ]
    },
    {
      "cell_type": "markdown",
      "metadata": {},
      "source": [
        "## Extract a PDF\n",
        "\n",
        "Simple extraction with auto-save:\n"
      ]
    },
    {
      "cell_type": "code",
      "execution_count": null,
      "metadata": {},
      "outputs": [],
      "source": [
        "# Extract PDF\n",
        "result = extractor.extract(\n",
        "    \"example.pdf\",\n",
        "    output_md=\"output.md\",  # Optional: auto-saves if provided\n",
        "    report_jsonl=\"report.jsonl\",  # Optional: provenance report\n",
        ")\n",
        "\n",
        "print(f\"✓ Processed {result.pages} pages\")\n",
        "print(f\"✓ Segment stats: {result.stats}\")\n",
        "print(f\"✓ Output saved to: {result.markdown_path}\")\n"
      ]
    },
    {
      "cell_type": "markdown",
      "metadata": {},
      "source": [
        "## View Results in Jupyter\n",
        "\n",
        "The markdown is returned and can be viewed directly:\n"
      ]
    },
    {
      "cell_type": "code",
      "execution_count": null,
      "metadata": {},
      "outputs": [],
      "source": [
        "# Display markdown (first 1000 chars as preview)\n",
        "print(result.markdown[:1000])\n",
        "print(\"...\" if len(result.markdown) > 1000 else \"\")\n"
      ]
    },
    {
      "cell_type": "markdown",
      "metadata": {},
      "source": [
        "## Extract Without Saving\n",
        "\n",
        "Just get the markdown string without writing to disk:\n"
      ]
    },
    {
      "cell_type": "code",
      "execution_count": null,
      "metadata": {},
      "outputs": [],
      "source": [
        "# Extract and just get the markdown string\n",
        "result = extractor.extract(\"example.pdf\")\n",
        "\n",
        "# Use the markdown directly\n",
        "markdown_text = result.markdown\n",
        "print(f\"Got {len(markdown_text)} characters of markdown\")\n"
      ]
    },
    {
      "cell_type": "markdown",
      "metadata": {},
      "source": [
        "## Using Ollama (Local Models)\n",
        "\n",
        "Use local open-source models:\n"
      ]
    },
    {
      "cell_type": "code",
      "execution_count": null,
      "metadata": {},
      "outputs": [],
      "source": [
        "extractor = PDFExtractor()\n",
        "extractor.config(\n",
        "    provider=\"ollama\",\n",
        "    vision_model=\"qwen2.5-vl\",\n",
        "    adjudicator_model=\"llama3.1\",\n",
        ")\n",
        "\n",
        "result = extractor.extract(\"example.pdf\")\n",
        "print(f\"Ollama extraction: {result.pages} pages\")\n"
      ]
    }
  ],
  "metadata": {
    "kernelspec": {
      "display_name": "hybrid_pdf_parser",
      "language": "python",
      "name": "python3"
    },
    "language_info": {
      "codemirror_mode": {
        "name": "ipython",
        "version": 3
      },
      "file_extension": ".py",
      "mimetype": "text/x-python",
      "name": "python",
      "nbconvert_exporter": "python",
      "pygments_lexer": "ipython3",
      "version": "3.13.9"
    }
  },
  "nbformat": 4,
  "nbformat_minor": 2
}
